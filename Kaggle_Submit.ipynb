{
 "cells": [
  {
   "cell_type": "markdown",
   "metadata": {},
   "source": [
    "## Import all necessary libraries"
   ]
  },
  {
   "cell_type": "code",
   "execution_count": 3,
   "metadata": {},
   "outputs": [],
   "source": [
    "import matplotlib.pyplot as plt\n",
    "import numpy as np\n",
    "from sklearn.model_selection import train_test_split\n",
    "from sklearn import preprocessing\n",
    "from sklearn.impute import SimpleImputer\n",
    "import pandas as pd\n",
    "import seaborn as sns\n",
    "from sklearn.linear_model import LinearRegression\n",
    "from sklearn.metrics import mean_squared_error\n",
    "%matplotlib inline"
   ]
  },
  {
   "cell_type": "markdown",
   "metadata": {},
   "source": [
    "#### Handle with nan value in training set and drop features\n",
    "* Drop \"Hair Color\" column\n",
    "* Remove all rows containing nan in training set\n",
    "* Remove \"Wears Glasses\" \" Hair Color\" features"
   ]
  },
  {
   "cell_type": "code",
   "execution_count": 4,
   "metadata": {},
   "outputs": [],
   "source": [
    "Raw_Data = pd.read_csv('WithLabels.csv', index_col= 0 ) # training data  index_col = 0 \n",
    "Raw_Data = Raw_Data.drop(labels = \"Hair Color\", axis = 1)# Drop \"Hair Color\" column\n",
    "Raw_Data = Raw_Data.dropna(axis = 0, how = 'any')        #Revome all rows containing nan in training set\n",
    "Raw_Data = Raw_Data.drop(labels = \"Wears Glasses\", axis = 1) #\n",
    "Input = pd.read_csv('WithoutLabels.csv', index_col= 0 )\n",
    "Input = Input.drop(labels = \"Hair Color\", axis = 1)\n",
    "Input = Input.drop(labels = \"Wears Glasses\", axis = 1)\n",
    "Input = Input.drop(labels = \"Income\", axis = 1)"
   ]
  },
  {
   "cell_type": "markdown",
   "metadata": {},
   "source": [
    "#### Hanle nan value in predicting set\n",
    "* fill with backward and forward value for numberic features\n",
    "* fill with unknown for categorical features"
   ]
  },
  {
   "cell_type": "code",
   "execution_count": 5,
   "metadata": {},
   "outputs": [],
   "source": [
    "Input[\"Year of Record\"].fillna(method = 'ffill', inplace = True) #将年份为nan的填为2000\n",
    "Input[\"Age\"].fillna(method = 'ffill', inplace = True) #将年龄为nan的填为55\n",
    "Input[\"Gender\"].fillna('unknown', inplace = True)\n",
    "Input[\"Profession\"].fillna('unknown', inplace = True)\n",
    "Input[\"University Degree\"].fillna('unknown', inplace = True)\n",
    "#Raw_Data.isnull().sum()"
   ]
  },
  {
   "cell_type": "code",
   "execution_count": 6,
   "metadata": {},
   "outputs": [],
   "source": [
    "#sns.scatterplot(\"Size of City\", \"Income in EUR\", data = Raw_Data)"
   ]
  },
  {
   "cell_type": "markdown",
   "metadata": {},
   "source": [
    "#### Drop rows with \"Size of City\" value greater than 9e6"
   ]
  },
  {
   "cell_type": "code",
   "execution_count": 7,
   "metadata": {},
   "outputs": [],
   "source": [
    "def drop_big_city(df, column, value):\n",
    "    df = df.drop(df[df[column] > value].index, inplace = True)\n",
    "\n",
    "drop_big_city(Raw_Data, \"Size of City\", 9000000)\n",
    "    "
   ]
  },
  {
   "cell_type": "code",
   "execution_count": 8,
   "metadata": {},
   "outputs": [],
   "source": [
    "a = Raw_Data[\"Size of City\"]\n",
    "count = 0\n",
    "for i in a:\n",
    "    if ( i > 9000000):\n",
    "        count +=1\n",
    "\n",
    "#sns.scatterplot(\"Size of City\", \"Income in EUR\", data = Raw_Data)"
   ]
  },
  {
   "cell_type": "code",
   "execution_count": 10,
   "metadata": {},
   "outputs": [],
   "source": [
    "#function drop rows containing specified value\n",
    "def drop_unknown(df, column, value):\n",
    "    df = df.drop(df[df[column] == value].index, inplace = True)\n",
    "    return df"
   ]
  },
  {
   "cell_type": "code",
   "execution_count": 8,
   "metadata": {},
   "outputs": [],
   "source": [
    "#sns_plot = sns.pairplot(Raw_Data)\n",
    "#sns_plot.savefig(\"output.png\")"
   ]
  },
  {
   "cell_type": "code",
   "execution_count": 9,
   "metadata": {},
   "outputs": [],
   "source": [
    "#sns.catplot(\"University Degree\", \"Body Height [cm]\", data = Input)"
   ]
  },
  {
   "cell_type": "code",
   "execution_count": 10,
   "metadata": {},
   "outputs": [],
   "source": [
    "drop_unknown(Raw_Data, \"Gender\", '0')\n",
    "drop_unknown(Raw_Data, \"Gender\", 'unknown')\n",
    "drop_unknown(Raw_Data, \"University Degree\", \"0\")"
   ]
  },
  {
   "cell_type": "markdown",
   "metadata": {},
   "source": [
    "#### replace 0 value with unknown"
   ]
  },
  {
   "cell_type": "code",
   "execution_count": 11,
   "metadata": {},
   "outputs": [],
   "source": [
    "def In_replace_zero(a):\n",
    "    return a.replace('0', 'unknown')\n",
    "\n",
    "Input.Gender = Input.Gender.apply(In_replace_zero)   #把input中0全部替换成unkown\n",
    "Input[\"University Degree\"] = Input[\"University Degree\"].apply(In_replace_zero)"
   ]
  },
  {
   "cell_type": "code",
   "execution_count": 11,
   "metadata": {},
   "outputs": [],
   "source": [
    "#sns.scatterplot(x=\"Year of Record\", y=\"Body Height [cm]\", data=Input);"
   ]
  },
  {
   "cell_type": "code",
   "execution_count": 12,
   "metadata": {},
   "outputs": [],
   "source": [
    "#sns.scatterplot(x=\"Body Height [cm]\", y=\"Income in EUR\", data=Raw_Data);"
   ]
  },
  {
   "cell_type": "markdown",
   "metadata": {},
   "source": [
    "#### apply sqrt to the Income value"
   ]
  },
  {
   "cell_type": "code",
   "execution_count": 18,
   "metadata": {},
   "outputs": [],
   "source": [
    "import math\n",
    "def sqrt_value(df, column):\n",
    "    df[column] = df[column].apply(lambda x: math.sqrt(x))\n",
    "#sqrt_value(Raw_Data, \"Age\")"
   ]
  },
  {
   "cell_type": "code",
   "execution_count": 19,
   "metadata": {},
   "outputs": [],
   "source": [
    "#count the Income value lower than 0\n",
    "count = 0\n",
    "a = Raw_Data[\"Income in EUR\"]\n",
    "for i in a:\n",
    "    if(i <= 0):\n",
    "        count = count + 1\n",
    "        \n",
    "#print(count)"
   ]
  },
  {
   "cell_type": "markdown",
   "metadata": {},
   "source": [
    "#### Revome rows with Income value lower than 0"
   ]
  },
  {
   "cell_type": "code",
   "execution_count": 23,
   "metadata": {},
   "outputs": [],
   "source": [
    "def drop_zero_Inco(df, column):\n",
    "    df = df.drop(df[df[column] < 0].index, inplace = True)\n",
    "    return df\n",
    "drop_zero_Inco(Raw_Data, \"Income in EUR\")"
   ]
  },
  {
   "cell_type": "code",
   "execution_count": 24,
   "metadata": {},
   "outputs": [],
   "source": [
    "#sqrt the Income value\n",
    "sqrt_value(Raw_Data, \"Income in EUR\")"
   ]
  },
  {
   "cell_type": "markdown",
   "metadata": {},
   "source": [
    "#### min-max normalization for Age feature"
   ]
  },
  {
   "cell_type": "code",
   "execution_count": 25,
   "metadata": {},
   "outputs": [],
   "source": [
    "min_age = Raw_Data[\"Age\"].min()\n",
    "max_age = Raw_Data[\"Age\"].max()"
   ]
  },
  {
   "cell_type": "code",
   "execution_count": 26,
   "metadata": {},
   "outputs": [],
   "source": [
    "def nor_age_value(df, column):\n",
    "    df[column] = df[column].apply(lambda x: (x-min_age)/(max_age - min_age))\n",
    "\n",
    "nor_age_value(Raw_Data, \"Age\")\n",
    "nor_age_value(Input, \"Age\")"
   ]
  },
  {
   "cell_type": "code",
   "execution_count": 27,
   "metadata": {},
   "outputs": [],
   "source": [
    "#sns.scatterplot(x=\"Age\", y=\"Income in EUR\", data = Raw_Data)"
   ]
  },
  {
   "cell_type": "code",
   "execution_count": 29,
   "metadata": {},
   "outputs": [],
   "source": [
    "#sns.scatterplot(x=\"Body Height [cm]\", y=\"Income in EUR\", data=Raw_Data)"
   ]
  },
  {
   "cell_type": "markdown",
   "metadata": {},
   "source": [
    "## IOR 处理前\n",
    "sns.pairplot(Raw_Data)"
   ]
  },
  {
   "cell_type": "markdown",
   "metadata": {},
   "source": [
    "## Tukey IQR"
   ]
  },
  {
   "cell_type": "code",
   "execution_count": 30,
   "metadata": {},
   "outputs": [],
   "source": [
    "def subset_by_iqr(df, column, whisker_width=1.1):\n",
    "    # Calculate Q1, Q2 and IQR\n",
    "    q1 = df[column].quantile(0.25)                 \n",
    "    q3 = df[column].quantile(0.75)\n",
    "    iqr = q3 - q1\n",
    "    # Apply filter with respect to IQR, including optional whiskers\n",
    "    filter = (df[column] >= q1 - whisker_width*iqr) & (df[column] <= q3 + whisker_width*iqr)\n",
    "    return df.loc[filter]                                                     "
   ]
  },
  {
   "cell_type": "code",
   "execution_count": 31,
   "metadata": {},
   "outputs": [],
   "source": [
    "# Example for whiskers = 1.5, as requested by the OP\n",
    "#Raw_Data = subset_by_iqr(Raw_Data, 'Income in EUR', whisker_width=1.5)\n",
    "#Raw_Data = subset_by_iqr(Raw_Data, 'Year of Record', whisker_width=1.5)\n",
    "#Raw_Data = subset_by_iqr(Raw_Data, 'Size of City', whisker_width=1.5)\n",
    "Raw_Data = subset_by_iqr(Raw_Data, 'Body Height [cm]', whisker_width=1.5)\n",
    "\n",
    "#sns.pairplot(Raw_Data)"
   ]
  },
  {
   "cell_type": "markdown",
   "metadata": {},
   "source": [
    "#### get the list of all unique variables in \"Profession\" and \"Country\" features both in training and predicting sets"
   ]
  },
  {
   "cell_type": "code",
   "execution_count": 32,
   "metadata": {},
   "outputs": [],
   "source": [
    "Raw_Pro_Categ = [x for x in Raw_Data[\"Profession\"].value_counts().sort_values(ascending = False).index]\n",
    "Inp_Pro_Categ = [x for x in Input[\"Profession\"].value_counts().sort_values(ascending = False).index]\n",
    "Pro_Categ_tem = Raw_Pro_Categ + Inp_Pro_Categ #remove duplicated value\n",
    "pro_Categ = list(dict.fromkeys(Pro_Categ_tem))\n",
    "#len(pro_Categ)"
   ]
  },
  {
   "cell_type": "code",
   "execution_count": 33,
   "metadata": {},
   "outputs": [],
   "source": [
    "Raw_Country_Categ = [x for x in Raw_Data[\"Country\"].value_counts().sort_values(ascending = False).index]\n",
    "Inp_Country_Categ = [x for x in Input[\"Country\"].value_counts().sort_values(ascending = False).index]\n",
    "Coun_Categ_tem = Raw_Country_Categ + Inp_Country_Categ\n",
    "Country_Categ = list(dict.fromkeys(Coun_Categ_tem))"
   ]
  },
  {
   "cell_type": "markdown",
   "metadata": {},
   "source": [
    "#### function of one-hot"
   ]
  },
  {
   "cell_type": "code",
   "execution_count": 35,
   "metadata": {},
   "outputs": [],
   "source": [
    "def one_hot_top_x(df, variable, top_x_labels):\n",
    "    for label in top_x_labels:\n",
    "        df[variable + '_' +label] = np.where(df[variable] == label, 1, 0)\n"
   ]
  },
  {
   "cell_type": "code",
   "execution_count": 36,
   "metadata": {},
   "outputs": [],
   "source": [
    "one_hot_top_x(Raw_Data, \"Profession\", pro_Categ)\n",
    "one_hot_top_x(Raw_Data, \"Country\", Country_Categ)"
   ]
  },
  {
   "cell_type": "code",
   "execution_count": 37,
   "metadata": {},
   "outputs": [],
   "source": [
    "one_hot_top_x(Input, \"Profession\", pro_Categ)\n",
    "one_hot_top_x(Input, \"Country\", Country_Categ)"
   ]
  },
  {
   "cell_type": "code",
   "execution_count": 39,
   "metadata": {},
   "outputs": [],
   "source": [
    "Raw_Data = Raw_Data.drop(labels = 'Profession', axis = 1)\n",
    "Raw_Data = Raw_Data.drop(labels = 'Country', axis = 1)"
   ]
  },
  {
   "cell_type": "code",
   "execution_count": 40,
   "metadata": {},
   "outputs": [],
   "source": [
    "Input = Input.drop(labels = 'Profession', axis = 1)\n",
    "Input = Input.drop(labels = 'Country', axis = 1)"
   ]
  },
  {
   "cell_type": "markdown",
   "metadata": {},
   "source": [
    "#### get_dummies for other categorical features ##"
   ]
  },
  {
   "cell_type": "code",
   "execution_count": 34,
   "metadata": {},
   "outputs": [],
   "source": [
    "Data_after_dummy = pd.get_dummies(Raw_Data, columns=['Gender', 'University Degree'], drop_first=True)\n",
    "Input_after_dummy = pd.get_dummies(Input, columns=['Gender', 'University Degree'], drop_first=True)"
   ]
  },
  {
   "cell_type": "code",
   "execution_count": 35,
   "metadata": {},
   "outputs": [],
   "source": [
    "Input_after_dummy = Input_after_dummy.drop(labels = \"Gender_unknown\", axis = 1)\n",
    "Input_after_dummy = Input_after_dummy.drop(labels = \"University Degree_unknown\", axis = 1)"
   ]
  },
  {
   "cell_type": "markdown",
   "metadata": {},
   "source": [
    "#### split Income column and features"
   ]
  },
  {
   "cell_type": "code",
   "execution_count": 36,
   "metadata": {},
   "outputs": [],
   "source": [
    "Income_after_dummy = Data_after_dummy[\"Income in EUR\"]\n",
    "Data_after_dummy = Data_after_dummy.drop(labels = \"Income in EUR\", axis = 1)"
   ]
  },
  {
   "cell_type": "markdown",
   "metadata": {},
   "source": [
    "#### Data split and prepare for training"
   ]
  },
  {
   "cell_type": "code",
   "execution_count": 44,
   "metadata": {},
   "outputs": [],
   "source": [
    "train_inputs, rest_inputs, train_labels, rest_labels = train_test_split(Data_after_dummy, Income_after_dummy, test_size = 0.20) #cross_validation CHANGED TO model_selection"
   ]
  },
  {
   "cell_type": "markdown",
   "metadata": {},
   "source": []
  },
  {
   "cell_type": "markdown",
   "metadata": {},
   "source": [
    "## <mark>model training</mark> ##"
   ]
  },
  {
   "cell_type": "code",
   "execution_count": 46,
   "metadata": {},
   "outputs": [
    {
     "name": "stdout",
     "output_type": "stream",
     "text": [
      "(1501,)\n"
     ]
    },
    {
     "data": {
      "text/plain": [
       "3931.462231570264"
      ]
     },
     "execution_count": 46,
     "metadata": {},
     "output_type": "execute_result"
    }
   ],
   "source": [
    "from sklearn import linear_model\n",
    "clf = linear_model.reg = linear_model.LinearRegression()\n",
    "clf.fit(X=train_inputs, y=train_labels)\n",
    "valid_pred = clf.predict(rest_inputs)\n",
    "print(clf.coef_.shape)\n",
    "mean_squared_error(rest_labels, valid_pred) # how good the model is"
   ]
  },
  {
   "cell_type": "markdown",
   "metadata": {},
   "source": [
    "#### Result Output"
   ]
  },
  {
   "cell_type": "code",
   "execution_count": 47,
   "metadata": {},
   "outputs": [],
   "source": [
    "OutcomeFinal = clf.predict(Input_after_dummy)"
   ]
  },
  {
   "cell_type": "code",
   "execution_count": 48,
   "metadata": {},
   "outputs": [],
   "source": [
    "pd.DataFrame(OutcomeFinal).to_csv('Predicted_Income.csv')"
   ]
  }
 ],
 "metadata": {
  "kernelspec": {
   "display_name": "Python 3",
   "language": "python",
   "name": "python3"
  },
  "language_info": {
   "codemirror_mode": {
    "name": "ipython",
    "version": 3
   },
   "file_extension": ".py",
   "mimetype": "text/x-python",
   "name": "python",
   "nbconvert_exporter": "python",
   "pygments_lexer": "ipython3",
   "version": "3.7.3"
  }
 },
 "nbformat": 4,
 "nbformat_minor": 4
}
